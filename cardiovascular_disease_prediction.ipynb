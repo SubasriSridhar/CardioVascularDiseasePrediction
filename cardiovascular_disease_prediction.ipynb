{
 "cells": [
  {
   "cell_type": "markdown",
   "metadata": {},
   "source": [
    "#### Dataset\n",
    "The Cardiovascular Disease dataset has been taken from Kaggle.It has a total number of 70,000 records of patients data and 12 columns.\n",
    "\n",
    "#### Data description\n",
    "There are 3 types of input features:\n",
    "\n",
    "Objective: factual information;\n",
    "Examination: results of medical examination;\n",
    "Subjective: information given by the patient.\n",
    "Features:\n",
    "\n",
    "Age | Objective Feature | age | int (days)\n",
    "\n",
    "Height | Objective Feature | height | int (cm) |\n",
    "\n",
    "Weight | Objective Feature | weight | float (kg) |\n",
    "\n",
    "Gender | Objective Feature | gender | categorical code |\n",
    "\n",
    "Systolic blood pressure | Examination Feature | ap_hi | int |\n",
    "\n",
    "Diastolic blood pressure | Examination Feature | ap_lo | int |\n",
    "\n",
    "Cholesterol | Examination Feature | cholesterol | 1: normal, 2: above normal, 3: well above normal |\n",
    "\n",
    "Glucose | Examination Feature | gluc | 1: normal, 2: above normal, 3: well above normal |\n",
    "\n",
    "Smoking | Subjective Feature | smoke | binary |\n",
    "\n",
    "Alcohol intake | Subjective Feature | alco | binary |\n",
    "\n",
    "Physical activity | Subjective Feature | active | binary |\n",
    "\n",
    "Presence or absence of cardiovascular disease | Target Variable | cardio | binary |\n"
   ]
  },
  {
   "cell_type": "code",
   "execution_count": 3,
   "metadata": {},
   "outputs": [],
   "source": [
    "#importing libraries"
   ]
  },
  {
   "cell_type": "code",
   "execution_count": 2,
   "metadata": {
    "colab": {
     "base_uri": "https://localhost:8080/",
     "height": 70
    },
    "colab_type": "code",
    "id": "Q-8Qpu-JSthg",
    "outputId": "a10c412a-3084-4abb-e4b4-ede4c16f911a"
   },
   "outputs": [
    {
     "name": "stderr",
     "output_type": "stream",
     "text": [
      "/usr/local/lib/python3.6/dist-packages/statsmodels/tools/_testing.py:19: FutureWarning: pandas.util.testing is deprecated. Use the functions in the public API at pandas.testing instead.\n",
      "  import pandas.util.testing as tm\n"
     ]
    }
   ],
   "source": [
    "'''import numpy as np # linear algebra\n",
    "import pandas as pd # data processing, CSV file I/O (e.g. pd.read_csv)\n",
    "from matplotlib import pyplot as plt\n",
    "#import tensorflow as tf\n",
    "#from tensorflow.keras.optimizers import RMSprop,Nadam,Adadelta,Adam\n",
    "#from tensorflow.keras.layers import BatchNormalization,LeakyReLU\n",
    "#from tensorflow.keras.callbacks import ReduceLROnPlateau, EarlyStopping\n",
    "import seaborn as sns\n",
    "import scipy.stats as stats\n",
    "import sklearn'''\n",
    "import os\n",
    "\n",
    "import numpy as np\n",
    "import pandas as pd\n",
    "from sklearn.model_selection import train_test_split\n",
    "import matplotlib  as plt\n",
    "import seaborn as sns\n",
    "from sklearn.model_selection import train_test_split, StratifiedKFold, cross_val_score\n",
    "from sklearn.pipeline import make_pipeline, Pipeline\n",
    "from sklearn.model_selection import GridSearchCV\n",
    "from sklearn.svm import SVC\n",
    "from sklearn.naive_bayes import MultinomialNB\n",
    "from sklearn.linear_model import LogisticRegression\n",
    "from sklearn.tree import DecisionTreeClassifier\n",
    "from sklearn.ensemble import RandomForestClassifier\n",
    "import joblib\n",
    "from sklearn.metrics import make_scorer, f1_score, recall_score, precision_score\n",
    "from sklearn.metrics import classification_report, confusion_matrix, accuracy_score\n",
    "from sklearn.metrics import log_loss\n",
    "import warnings\n",
    "warnings.simplefilter(action = 'ignore', category= FutureWarning)\n",
    "from sklearn.ensemble import BaggingClassifier\n",
    "from sklearn.ensemble import AdaBoostClassifier"
   ]
  },
  {
   "cell_type": "code",
   "execution_count": 1,
   "metadata": {
    "colab": {
     "base_uri": "https://localhost:8080/",
     "height": 121
    },
    "colab_type": "code",
    "id": "i6__Ul9zTFbp",
    "outputId": "b622cac5-c3ef-4036-bac2-f9cca3d7136e"
   },
   "outputs": [
    {
     "name": "stdout",
     "output_type": "stream",
     "text": [
      "Go to this URL in a browser: https://accounts.google.com/o/oauth2/auth?client_id=947318989803-6bn6qk8qdgf4n4g3pfee6491hc0brc4i.apps.googleusercontent.com&redirect_uri=urn%3aietf%3awg%3aoauth%3a2.0%3aoob&scope=email%20https%3a%2f%2fwww.googleapis.com%2fauth%2fdocs.test%20https%3a%2f%2fwww.googleapis.com%2fauth%2fdrive%20https%3a%2f%2fwww.googleapis.com%2fauth%2fdrive.photos.readonly%20https%3a%2f%2fwww.googleapis.com%2fauth%2fpeopleapi.readonly&response_type=code\n",
      "\n",
      "Enter your authorization code:\n",
      "··········\n",
      "Mounted at /content/drive\n"
     ]
    }
   ],
   "source": [
    "from google.colab import drive\n",
    "drive.mount('/content/drive')"
   ]
  },
  {
   "cell_type": "code",
   "execution_count": null,
   "metadata": {},
   "outputs": [],
   "source": [
    "#Reading the data"
   ]
  },
  {
   "cell_type": "code",
   "execution_count": 3,
   "metadata": {
    "colab": {
     "base_uri": "https://localhost:8080/",
     "height": 402
    },
    "colab_type": "code",
    "id": "vOaS1MoXSthz",
    "outputId": "0d0285c0-98f5-4577-e189-de6a4e3dd81d",
    "scrolled": true
   },
   "outputs": [
    {
     "data": {
      "text/html": [
       "<div>\n",
       "<style scoped>\n",
       "    .dataframe tbody tr th:only-of-type {\n",
       "        vertical-align: middle;\n",
       "    }\n",
       "\n",
       "    .dataframe tbody tr th {\n",
       "        vertical-align: top;\n",
       "    }\n",
       "\n",
       "    .dataframe thead th {\n",
       "        text-align: right;\n",
       "    }\n",
       "</style>\n",
       "<table border=\"1\" class=\"dataframe\">\n",
       "  <thead>\n",
       "    <tr style=\"text-align: right;\">\n",
       "      <th></th>\n",
       "      <th>id</th>\n",
       "      <th>age</th>\n",
       "      <th>gender</th>\n",
       "      <th>height</th>\n",
       "      <th>weight</th>\n",
       "      <th>ap_hi</th>\n",
       "      <th>ap_lo</th>\n",
       "      <th>cholesterol</th>\n",
       "      <th>gluc</th>\n",
       "      <th>smoke</th>\n",
       "      <th>alco</th>\n",
       "      <th>active</th>\n",
       "      <th>cardio</th>\n",
       "    </tr>\n",
       "  </thead>\n",
       "  <tbody>\n",
       "    <tr>\n",
       "      <th>0</th>\n",
       "      <td>0</td>\n",
       "      <td>18393</td>\n",
       "      <td>2</td>\n",
       "      <td>168</td>\n",
       "      <td>62.0</td>\n",
       "      <td>110</td>\n",
       "      <td>80</td>\n",
       "      <td>1</td>\n",
       "      <td>1</td>\n",
       "      <td>0</td>\n",
       "      <td>0</td>\n",
       "      <td>1</td>\n",
       "      <td>0</td>\n",
       "    </tr>\n",
       "    <tr>\n",
       "      <th>1</th>\n",
       "      <td>1</td>\n",
       "      <td>20228</td>\n",
       "      <td>1</td>\n",
       "      <td>156</td>\n",
       "      <td>85.0</td>\n",
       "      <td>140</td>\n",
       "      <td>90</td>\n",
       "      <td>3</td>\n",
       "      <td>1</td>\n",
       "      <td>0</td>\n",
       "      <td>0</td>\n",
       "      <td>1</td>\n",
       "      <td>1</td>\n",
       "    </tr>\n",
       "    <tr>\n",
       "      <th>2</th>\n",
       "      <td>2</td>\n",
       "      <td>18857</td>\n",
       "      <td>1</td>\n",
       "      <td>165</td>\n",
       "      <td>64.0</td>\n",
       "      <td>130</td>\n",
       "      <td>70</td>\n",
       "      <td>3</td>\n",
       "      <td>1</td>\n",
       "      <td>0</td>\n",
       "      <td>0</td>\n",
       "      <td>0</td>\n",
       "      <td>1</td>\n",
       "    </tr>\n",
       "    <tr>\n",
       "      <th>3</th>\n",
       "      <td>3</td>\n",
       "      <td>17623</td>\n",
       "      <td>2</td>\n",
       "      <td>169</td>\n",
       "      <td>82.0</td>\n",
       "      <td>150</td>\n",
       "      <td>100</td>\n",
       "      <td>1</td>\n",
       "      <td>1</td>\n",
       "      <td>0</td>\n",
       "      <td>0</td>\n",
       "      <td>1</td>\n",
       "      <td>1</td>\n",
       "    </tr>\n",
       "    <tr>\n",
       "      <th>4</th>\n",
       "      <td>4</td>\n",
       "      <td>17474</td>\n",
       "      <td>1</td>\n",
       "      <td>156</td>\n",
       "      <td>56.0</td>\n",
       "      <td>100</td>\n",
       "      <td>60</td>\n",
       "      <td>1</td>\n",
       "      <td>1</td>\n",
       "      <td>0</td>\n",
       "      <td>0</td>\n",
       "      <td>0</td>\n",
       "      <td>0</td>\n",
       "    </tr>\n",
       "    <tr>\n",
       "      <th>...</th>\n",
       "      <td>...</td>\n",
       "      <td>...</td>\n",
       "      <td>...</td>\n",
       "      <td>...</td>\n",
       "      <td>...</td>\n",
       "      <td>...</td>\n",
       "      <td>...</td>\n",
       "      <td>...</td>\n",
       "      <td>...</td>\n",
       "      <td>...</td>\n",
       "      <td>...</td>\n",
       "      <td>...</td>\n",
       "      <td>...</td>\n",
       "    </tr>\n",
       "    <tr>\n",
       "      <th>69995</th>\n",
       "      <td>99993</td>\n",
       "      <td>19240</td>\n",
       "      <td>2</td>\n",
       "      <td>168</td>\n",
       "      <td>76.0</td>\n",
       "      <td>120</td>\n",
       "      <td>80</td>\n",
       "      <td>1</td>\n",
       "      <td>1</td>\n",
       "      <td>1</td>\n",
       "      <td>0</td>\n",
       "      <td>1</td>\n",
       "      <td>0</td>\n",
       "    </tr>\n",
       "    <tr>\n",
       "      <th>69996</th>\n",
       "      <td>99995</td>\n",
       "      <td>22601</td>\n",
       "      <td>1</td>\n",
       "      <td>158</td>\n",
       "      <td>126.0</td>\n",
       "      <td>140</td>\n",
       "      <td>90</td>\n",
       "      <td>2</td>\n",
       "      <td>2</td>\n",
       "      <td>0</td>\n",
       "      <td>0</td>\n",
       "      <td>1</td>\n",
       "      <td>1</td>\n",
       "    </tr>\n",
       "    <tr>\n",
       "      <th>69997</th>\n",
       "      <td>99996</td>\n",
       "      <td>19066</td>\n",
       "      <td>2</td>\n",
       "      <td>183</td>\n",
       "      <td>105.0</td>\n",
       "      <td>180</td>\n",
       "      <td>90</td>\n",
       "      <td>3</td>\n",
       "      <td>1</td>\n",
       "      <td>0</td>\n",
       "      <td>1</td>\n",
       "      <td>0</td>\n",
       "      <td>1</td>\n",
       "    </tr>\n",
       "    <tr>\n",
       "      <th>69998</th>\n",
       "      <td>99998</td>\n",
       "      <td>22431</td>\n",
       "      <td>1</td>\n",
       "      <td>163</td>\n",
       "      <td>72.0</td>\n",
       "      <td>135</td>\n",
       "      <td>80</td>\n",
       "      <td>1</td>\n",
       "      <td>2</td>\n",
       "      <td>0</td>\n",
       "      <td>0</td>\n",
       "      <td>0</td>\n",
       "      <td>1</td>\n",
       "    </tr>\n",
       "    <tr>\n",
       "      <th>69999</th>\n",
       "      <td>99999</td>\n",
       "      <td>20540</td>\n",
       "      <td>1</td>\n",
       "      <td>170</td>\n",
       "      <td>72.0</td>\n",
       "      <td>120</td>\n",
       "      <td>80</td>\n",
       "      <td>2</td>\n",
       "      <td>1</td>\n",
       "      <td>0</td>\n",
       "      <td>0</td>\n",
       "      <td>1</td>\n",
       "      <td>0</td>\n",
       "    </tr>\n",
       "  </tbody>\n",
       "</table>\n",
       "<p>70000 rows × 13 columns</p>\n",
       "</div>"
      ],
      "text/plain": [
       "          id    age  gender  height  weight  ...  gluc  smoke  alco  active  cardio\n",
       "0          0  18393       2     168    62.0  ...     1      0     0       1       0\n",
       "1          1  20228       1     156    85.0  ...     1      0     0       1       1\n",
       "2          2  18857       1     165    64.0  ...     1      0     0       0       1\n",
       "3          3  17623       2     169    82.0  ...     1      0     0       1       1\n",
       "4          4  17474       1     156    56.0  ...     1      0     0       0       0\n",
       "...      ...    ...     ...     ...     ...  ...   ...    ...   ...     ...     ...\n",
       "69995  99993  19240       2     168    76.0  ...     1      1     0       1       0\n",
       "69996  99995  22601       1     158   126.0  ...     2      0     0       1       1\n",
       "69997  99996  19066       2     183   105.0  ...     1      0     1       0       1\n",
       "69998  99998  22431       1     163    72.0  ...     2      0     0       0       1\n",
       "69999  99999  20540       1     170    72.0  ...     1      0     0       1       0\n",
       "\n",
       "[70000 rows x 13 columns]"
      ]
     },
     "execution_count": 3,
     "metadata": {
      "tags": []
     },
     "output_type": "execute_result"
    }
   ],
   "source": [
    "df=pd.read_csv('cardio_train.csv',sep=';')\n",
    "df"
   ]
  },
  {
   "cell_type": "markdown",
   "metadata": {},
   "source": [
    "# Exploratory Data Analysis (EDA)\n"
   ]
  },
  {
   "cell_type": "markdown",
   "metadata": {},
   "source": [
    " Here I have tried to explore the data and find out more about the chosen dataset."
   ]
  },
  {
   "cell_type": "code",
   "execution_count": 4,
   "metadata": {
    "colab": {
     "base_uri": "https://localhost:8080/",
     "height": 284
    },
    "colab_type": "code",
    "id": "vUpt_PBxSth3",
    "outputId": "3399f4e3-9158-4a5d-bbc3-d7a2c923193a"
   },
   "outputs": [
    {
     "data": {
      "text/html": [
       "<div>\n",
       "<style scoped>\n",
       "    .dataframe tbody tr th:only-of-type {\n",
       "        vertical-align: middle;\n",
       "    }\n",
       "\n",
       "    .dataframe tbody tr th {\n",
       "        vertical-align: top;\n",
       "    }\n",
       "\n",
       "    .dataframe thead th {\n",
       "        text-align: right;\n",
       "    }\n",
       "</style>\n",
       "<table border=\"1\" class=\"dataframe\">\n",
       "  <thead>\n",
       "    <tr style=\"text-align: right;\">\n",
       "      <th></th>\n",
       "      <th>id</th>\n",
       "      <th>age</th>\n",
       "      <th>gender</th>\n",
       "      <th>height</th>\n",
       "      <th>weight</th>\n",
       "      <th>ap_hi</th>\n",
       "      <th>ap_lo</th>\n",
       "      <th>cholesterol</th>\n",
       "      <th>gluc</th>\n",
       "      <th>smoke</th>\n",
       "      <th>alco</th>\n",
       "      <th>active</th>\n",
       "      <th>cardio</th>\n",
       "    </tr>\n",
       "  </thead>\n",
       "  <tbody>\n",
       "    <tr>\n",
       "      <th>count</th>\n",
       "      <td>70000.000000</td>\n",
       "      <td>70000.000000</td>\n",
       "      <td>70000.000000</td>\n",
       "      <td>70000.000000</td>\n",
       "      <td>70000.000000</td>\n",
       "      <td>70000.000000</td>\n",
       "      <td>70000.000000</td>\n",
       "      <td>70000.000000</td>\n",
       "      <td>70000.000000</td>\n",
       "      <td>70000.000000</td>\n",
       "      <td>70000.000000</td>\n",
       "      <td>70000.000000</td>\n",
       "      <td>70000.000000</td>\n",
       "    </tr>\n",
       "    <tr>\n",
       "      <th>mean</th>\n",
       "      <td>49972.419900</td>\n",
       "      <td>19468.865814</td>\n",
       "      <td>1.349571</td>\n",
       "      <td>164.359229</td>\n",
       "      <td>74.205690</td>\n",
       "      <td>128.817286</td>\n",
       "      <td>96.630414</td>\n",
       "      <td>1.366871</td>\n",
       "      <td>1.226457</td>\n",
       "      <td>0.088129</td>\n",
       "      <td>0.053771</td>\n",
       "      <td>0.803729</td>\n",
       "      <td>0.499700</td>\n",
       "    </tr>\n",
       "    <tr>\n",
       "      <th>std</th>\n",
       "      <td>28851.302323</td>\n",
       "      <td>2467.251667</td>\n",
       "      <td>0.476838</td>\n",
       "      <td>8.210126</td>\n",
       "      <td>14.395757</td>\n",
       "      <td>154.011419</td>\n",
       "      <td>188.472530</td>\n",
       "      <td>0.680250</td>\n",
       "      <td>0.572270</td>\n",
       "      <td>0.283484</td>\n",
       "      <td>0.225568</td>\n",
       "      <td>0.397179</td>\n",
       "      <td>0.500003</td>\n",
       "    </tr>\n",
       "    <tr>\n",
       "      <th>min</th>\n",
       "      <td>0.000000</td>\n",
       "      <td>10798.000000</td>\n",
       "      <td>1.000000</td>\n",
       "      <td>55.000000</td>\n",
       "      <td>10.000000</td>\n",
       "      <td>-150.000000</td>\n",
       "      <td>-70.000000</td>\n",
       "      <td>1.000000</td>\n",
       "      <td>1.000000</td>\n",
       "      <td>0.000000</td>\n",
       "      <td>0.000000</td>\n",
       "      <td>0.000000</td>\n",
       "      <td>0.000000</td>\n",
       "    </tr>\n",
       "    <tr>\n",
       "      <th>25%</th>\n",
       "      <td>25006.750000</td>\n",
       "      <td>17664.000000</td>\n",
       "      <td>1.000000</td>\n",
       "      <td>159.000000</td>\n",
       "      <td>65.000000</td>\n",
       "      <td>120.000000</td>\n",
       "      <td>80.000000</td>\n",
       "      <td>1.000000</td>\n",
       "      <td>1.000000</td>\n",
       "      <td>0.000000</td>\n",
       "      <td>0.000000</td>\n",
       "      <td>1.000000</td>\n",
       "      <td>0.000000</td>\n",
       "    </tr>\n",
       "    <tr>\n",
       "      <th>50%</th>\n",
       "      <td>50001.500000</td>\n",
       "      <td>19703.000000</td>\n",
       "      <td>1.000000</td>\n",
       "      <td>165.000000</td>\n",
       "      <td>72.000000</td>\n",
       "      <td>120.000000</td>\n",
       "      <td>80.000000</td>\n",
       "      <td>1.000000</td>\n",
       "      <td>1.000000</td>\n",
       "      <td>0.000000</td>\n",
       "      <td>0.000000</td>\n",
       "      <td>1.000000</td>\n",
       "      <td>0.000000</td>\n",
       "    </tr>\n",
       "    <tr>\n",
       "      <th>75%</th>\n",
       "      <td>74889.250000</td>\n",
       "      <td>21327.000000</td>\n",
       "      <td>2.000000</td>\n",
       "      <td>170.000000</td>\n",
       "      <td>82.000000</td>\n",
       "      <td>140.000000</td>\n",
       "      <td>90.000000</td>\n",
       "      <td>2.000000</td>\n",
       "      <td>1.000000</td>\n",
       "      <td>0.000000</td>\n",
       "      <td>0.000000</td>\n",
       "      <td>1.000000</td>\n",
       "      <td>1.000000</td>\n",
       "    </tr>\n",
       "    <tr>\n",
       "      <th>max</th>\n",
       "      <td>99999.000000</td>\n",
       "      <td>23713.000000</td>\n",
       "      <td>2.000000</td>\n",
       "      <td>250.000000</td>\n",
       "      <td>200.000000</td>\n",
       "      <td>16020.000000</td>\n",
       "      <td>11000.000000</td>\n",
       "      <td>3.000000</td>\n",
       "      <td>3.000000</td>\n",
       "      <td>1.000000</td>\n",
       "      <td>1.000000</td>\n",
       "      <td>1.000000</td>\n",
       "      <td>1.000000</td>\n",
       "    </tr>\n",
       "  </tbody>\n",
       "</table>\n",
       "</div>"
      ],
      "text/plain": [
       "                 id           age  ...        active        cardio\n",
       "count  70000.000000  70000.000000  ...  70000.000000  70000.000000\n",
       "mean   49972.419900  19468.865814  ...      0.803729      0.499700\n",
       "std    28851.302323   2467.251667  ...      0.397179      0.500003\n",
       "min        0.000000  10798.000000  ...      0.000000      0.000000\n",
       "25%    25006.750000  17664.000000  ...      1.000000      0.000000\n",
       "50%    50001.500000  19703.000000  ...      1.000000      0.000000\n",
       "75%    74889.250000  21327.000000  ...      1.000000      1.000000\n",
       "max    99999.000000  23713.000000  ...      1.000000      1.000000\n",
       "\n",
       "[8 rows x 13 columns]"
      ]
     },
     "execution_count": 4,
     "metadata": {
      "tags": []
     },
     "output_type": "execute_result"
    }
   ],
   "source": [
    "df.describe()"
   ]
  },
  {
   "cell_type": "code",
   "execution_count": 5,
   "metadata": {
    "colab": {
     "base_uri": "https://localhost:8080/",
     "height": 353
    },
    "colab_type": "code",
    "id": "jAfE4KnQSth7",
    "outputId": "4348246b-e202-4e3d-bbe9-6a2e1de86bfa",
    "scrolled": true
   },
   "outputs": [
    {
     "name": "stdout",
     "output_type": "stream",
     "text": [
      "<class 'pandas.core.frame.DataFrame'>\n",
      "RangeIndex: 70000 entries, 0 to 69999\n",
      "Data columns (total 13 columns):\n",
      " #   Column       Non-Null Count  Dtype  \n",
      "---  ------       --------------  -----  \n",
      " 0   id           70000 non-null  int64  \n",
      " 1   age          70000 non-null  int64  \n",
      " 2   gender       70000 non-null  int64  \n",
      " 3   height       70000 non-null  int64  \n",
      " 4   weight       70000 non-null  float64\n",
      " 5   ap_hi        70000 non-null  int64  \n",
      " 6   ap_lo        70000 non-null  int64  \n",
      " 7   cholesterol  70000 non-null  int64  \n",
      " 8   gluc         70000 non-null  int64  \n",
      " 9   smoke        70000 non-null  int64  \n",
      " 10  alco         70000 non-null  int64  \n",
      " 11  active       70000 non-null  int64  \n",
      " 12  cardio       70000 non-null  int64  \n",
      "dtypes: float64(1), int64(12)\n",
      "memory usage: 6.9 MB\n"
     ]
    }
   ],
   "source": [
    "df.info()"
   ]
  },
  {
   "cell_type": "markdown",
   "metadata": {},
   "source": [
    "### Visualisation"
   ]
  },
  {
   "cell_type": "markdown",
   "metadata": {},
   "source": [
    "First I'm checking for any outliers and handling them so that the accuracy can be increased."
   ]
  },
  {
   "cell_type": "code",
   "execution_count": 6,
   "metadata": {
    "colab": {
     "base_uri": "https://localhost:8080/",
     "height": 195
    },
    "colab_type": "code",
    "id": "1-8pHI0VSth_",
    "outputId": "9153ecb8-c6df-48c0-d188-14dfea2cd7a1"
   },
   "outputs": [
    {
     "data": {
      "text/html": [
       "<div>\n",
       "<style scoped>\n",
       "    .dataframe tbody tr th:only-of-type {\n",
       "        vertical-align: middle;\n",
       "    }\n",
       "\n",
       "    .dataframe tbody tr th {\n",
       "        vertical-align: top;\n",
       "    }\n",
       "\n",
       "    .dataframe thead th {\n",
       "        text-align: right;\n",
       "    }\n",
       "</style>\n",
       "<table border=\"1\" class=\"dataframe\">\n",
       "  <thead>\n",
       "    <tr style=\"text-align: right;\">\n",
       "      <th></th>\n",
       "      <th>id</th>\n",
       "      <th>age</th>\n",
       "      <th>gender</th>\n",
       "      <th>height</th>\n",
       "      <th>weight</th>\n",
       "      <th>ap_hi</th>\n",
       "      <th>ap_lo</th>\n",
       "      <th>cholesterol</th>\n",
       "      <th>gluc</th>\n",
       "      <th>smoke</th>\n",
       "      <th>alco</th>\n",
       "      <th>active</th>\n",
       "      <th>cardio</th>\n",
       "    </tr>\n",
       "  </thead>\n",
       "  <tbody>\n",
       "    <tr>\n",
       "      <th>0</th>\n",
       "      <td>0</td>\n",
       "      <td>-0.436058</td>\n",
       "      <td>2</td>\n",
       "      <td>0.443449</td>\n",
       "      <td>-0.847867</td>\n",
       "      <td>-0.122181</td>\n",
       "      <td>-0.088238</td>\n",
       "      <td>1</td>\n",
       "      <td>1</td>\n",
       "      <td>0</td>\n",
       "      <td>0</td>\n",
       "      <td>1</td>\n",
       "      <td>0</td>\n",
       "    </tr>\n",
       "    <tr>\n",
       "      <th>1</th>\n",
       "      <td>1</td>\n",
       "      <td>0.307684</td>\n",
       "      <td>1</td>\n",
       "      <td>-1.018161</td>\n",
       "      <td>0.749826</td>\n",
       "      <td>0.072610</td>\n",
       "      <td>-0.035180</td>\n",
       "      <td>3</td>\n",
       "      <td>1</td>\n",
       "      <td>0</td>\n",
       "      <td>0</td>\n",
       "      <td>1</td>\n",
       "      <td>1</td>\n",
       "    </tr>\n",
       "    <tr>\n",
       "      <th>2</th>\n",
       "      <td>2</td>\n",
       "      <td>-0.247995</td>\n",
       "      <td>1</td>\n",
       "      <td>0.078046</td>\n",
       "      <td>-0.708937</td>\n",
       "      <td>0.007679</td>\n",
       "      <td>-0.141296</td>\n",
       "      <td>3</td>\n",
       "      <td>1</td>\n",
       "      <td>0</td>\n",
       "      <td>0</td>\n",
       "      <td>0</td>\n",
       "      <td>1</td>\n",
       "    </tr>\n",
       "    <tr>\n",
       "      <th>3</th>\n",
       "      <td>3</td>\n",
       "      <td>-0.748147</td>\n",
       "      <td>2</td>\n",
       "      <td>0.565250</td>\n",
       "      <td>0.541431</td>\n",
       "      <td>0.137540</td>\n",
       "      <td>0.017878</td>\n",
       "      <td>1</td>\n",
       "      <td>1</td>\n",
       "      <td>0</td>\n",
       "      <td>0</td>\n",
       "      <td>1</td>\n",
       "      <td>1</td>\n",
       "    </tr>\n",
       "    <tr>\n",
       "      <th>4</th>\n",
       "      <td>4</td>\n",
       "      <td>-0.808538</td>\n",
       "      <td>1</td>\n",
       "      <td>-1.018161</td>\n",
       "      <td>-1.264657</td>\n",
       "      <td>-0.187111</td>\n",
       "      <td>-0.194354</td>\n",
       "      <td>1</td>\n",
       "      <td>1</td>\n",
       "      <td>0</td>\n",
       "      <td>0</td>\n",
       "      <td>0</td>\n",
       "      <td>0</td>\n",
       "    </tr>\n",
       "  </tbody>\n",
       "</table>\n",
       "</div>"
      ],
      "text/plain": [
       "   id       age  gender    height    weight  ...  gluc  smoke  alco  active  cardio\n",
       "0   0 -0.436058       2  0.443449 -0.847867  ...     1      0     0       1       0\n",
       "1   1  0.307684       1 -1.018161  0.749826  ...     1      0     0       1       1\n",
       "2   2 -0.247995       1  0.078046 -0.708937  ...     1      0     0       0       1\n",
       "3   3 -0.748147       2  0.565250  0.541431  ...     1      0     0       1       1\n",
       "4   4 -0.808538       1 -1.018161 -1.264657  ...     1      0     0       0       0\n",
       "\n",
       "[5 rows x 13 columns]"
      ]
     },
     "execution_count": 6,
     "metadata": {
      "tags": []
     },
     "output_type": "execute_result"
    }
   ],
   "source": [
    "x = df.copy(deep=True)\n",
    "s_list = [\"age\", \"height\", \"weight\", \"ap_hi\", \"ap_lo\"]\n",
    "def standartization(x):\n",
    "    x_std = x.copy(deep=True)\n",
    "    for column in s_list:\n",
    "        x_std[column] = (x_std[column]-x_std[column].mean())/x_std[column].std()\n",
    "    return x_std \n",
    "x_std=standartization(x)\n",
    "x_std.head()"
   ]
  },
  {
   "cell_type": "code",
   "execution_count": 8,
   "metadata": {
    "colab": {
     "base_uri": "https://localhost:8080/",
     "height": 623
    },
    "colab_type": "code",
    "id": "XsWaExd2StiC",
    "outputId": "a75471c2-25f0-48b6-a047-7419d633cd06"
   },
   "outputs": [
    {
     "data": {
      "text/plain": [
       "<matplotlib.axes._subplots.AxesSubplot at 0x7f4678177240>"
      ]
     },
     "execution_count": 8,
     "metadata": {
      "tags": []
     },
     "output_type": "execute_result"
    },
    {
     "data": {
      "image/png": "[encoded data removed]",
      "text/plain": [
       "<Figure size 720x720 with 1 Axes>"
      ]
     },
     "metadata": {
      "needs_background": "light",
      "tags": []
     },
     "output_type": "display_data"
    }
   ],
   "source": [
    "import matplotlib.pyplot as plt\n",
    "\n",
    "plt.figure(figsize=(10,10))\n",
    "sns.boxplot(x=\"variable\",y=\"value\",data=pd.melt(df))"
   ]
  },
  {
   "cell_type": "code",
   "execution_count": 9,
   "metadata": {
    "colab": {},
    "colab_type": "code",
    "id": "MssYCYkyStiI",
    "scrolled": true
   },
   "outputs": [],
   "source": [
    "df=df[(df.ap_hi>=90) & (df.ap_hi<=170)]\n",
    "df=df[(df.ap_lo>=60) & (df.ap_lo<=105)]"
   ]
  },
  {
   "cell_type": "code",
   "execution_count": 10,
   "metadata": {
    "colab": {
     "base_uri": "https://localhost:8080/",
     "height": 67
    },
    "colab_type": "code",
    "id": "vmUQb244StiL",
    "outputId": "b0b0633d-246a-4cfc-f733-a9651ea621ea",
    "scrolled": true
   },
   "outputs": [
    {
     "data": {
      "text/plain": [
       "0    34393\n",
       "1    32792\n",
       "Name: cardio, dtype: int64"
      ]
     },
     "execution_count": 10,
     "metadata": {
      "tags": []
     },
     "output_type": "execute_result"
    }
   ],
   "source": [
    "df[\"cardio\"].value_counts()\n"
   ]
  },
  {
   "cell_type": "code",
   "execution_count": 11,
   "metadata": {
    "colab": {
     "base_uri": "https://localhost:8080/",
     "height": 296
    },
    "colab_type": "code",
    "id": "LPaHdBRSStiP",
    "outputId": "e34dce3b-fd5a-49f4-c47f-045f3de945c5",
    "scrolled": true
   },
   "outputs": [
    {
     "data": {
      "text/plain": [
       "<matplotlib.axes._subplots.AxesSubplot at 0x7f4679494a90>"
      ]
     },
     "execution_count": 11,
     "metadata": {
      "tags": []
     },
     "output_type": "execute_result"
    },
    {
     "data": {
      "image/png": "[encoded data removed]",
      "text/plain": [
       "<Figure size 432x288 with 1 Axes>"
      ]
     },
     "metadata": {
      "needs_background": "light",
      "tags": []
     },
     "output_type": "display_data"
    }
   ],
   "source": [
    "sns.countplot(x='cardio',data=df,linewidth=2,edgecolor=sns.color_palette(\"dark\", 1))"
   ]
  },
  {
   "cell_type": "code",
   "execution_count": 12,
   "metadata": {
    "colab": {
     "base_uri": "https://localhost:8080/",
     "height": 402
    },
    "colab_type": "code",
    "id": "oRUyhrHwStiS",
    "outputId": "c48c2917-091e-4adf-9763-b9b2762e516b",
    "scrolled": true
   },
   "outputs": [
    {
     "data": {
      "text/html": [
       "<div>\n",
       "<style scoped>\n",
       "    .dataframe tbody tr th:only-of-type {\n",
       "        vertical-align: middle;\n",
       "    }\n",
       "\n",
       "    .dataframe tbody tr th {\n",
       "        vertical-align: top;\n",
       "    }\n",
       "\n",
       "    .dataframe thead th {\n",
       "        text-align: right;\n",
       "    }\n",
       "</style>\n",
       "<table border=\"1\" class=\"dataframe\">\n",
       "  <thead>\n",
       "    <tr style=\"text-align: right;\">\n",
       "      <th></th>\n",
       "      <th>id</th>\n",
       "      <th>age</th>\n",
       "      <th>gender</th>\n",
       "      <th>height</th>\n",
       "      <th>weight</th>\n",
       "      <th>ap_hi</th>\n",
       "      <th>ap_lo</th>\n",
       "      <th>cholesterol</th>\n",
       "      <th>gluc</th>\n",
       "      <th>smoke</th>\n",
       "      <th>alco</th>\n",
       "      <th>active</th>\n",
       "      <th>cardio</th>\n",
       "    </tr>\n",
       "  </thead>\n",
       "  <tbody>\n",
       "    <tr>\n",
       "      <th>0</th>\n",
       "      <td>0</td>\n",
       "      <td>50.0</td>\n",
       "      <td>2</td>\n",
       "      <td>168</td>\n",
       "      <td>62.0</td>\n",
       "      <td>110</td>\n",
       "      <td>80</td>\n",
       "      <td>1</td>\n",
       "      <td>1</td>\n",
       "      <td>0</td>\n",
       "      <td>0</td>\n",
       "      <td>1</td>\n",
       "      <td>0</td>\n",
       "    </tr>\n",
       "    <tr>\n",
       "      <th>1</th>\n",
       "      <td>1</td>\n",
       "      <td>55.0</td>\n",
       "      <td>1</td>\n",
       "      <td>156</td>\n",
       "      <td>85.0</td>\n",
       "      <td>140</td>\n",
       "      <td>90</td>\n",
       "      <td>3</td>\n",
       "      <td>1</td>\n",
       "      <td>0</td>\n",
       "      <td>0</td>\n",
       "      <td>1</td>\n",
       "      <td>1</td>\n",
       "    </tr>\n",
       "    <tr>\n",
       "      <th>2</th>\n",
       "      <td>2</td>\n",
       "      <td>52.0</td>\n",
       "      <td>1</td>\n",
       "      <td>165</td>\n",
       "      <td>64.0</td>\n",
       "      <td>130</td>\n",
       "      <td>70</td>\n",
       "      <td>3</td>\n",
       "      <td>1</td>\n",
       "      <td>0</td>\n",
       "      <td>0</td>\n",
       "      <td>0</td>\n",
       "      <td>1</td>\n",
       "    </tr>\n",
       "    <tr>\n",
       "      <th>3</th>\n",
       "      <td>3</td>\n",
       "      <td>48.0</td>\n",
       "      <td>2</td>\n",
       "      <td>169</td>\n",
       "      <td>82.0</td>\n",
       "      <td>150</td>\n",
       "      <td>100</td>\n",
       "      <td>1</td>\n",
       "      <td>1</td>\n",
       "      <td>0</td>\n",
       "      <td>0</td>\n",
       "      <td>1</td>\n",
       "      <td>1</td>\n",
       "    </tr>\n",
       "    <tr>\n",
       "      <th>4</th>\n",
       "      <td>4</td>\n",
       "      <td>48.0</td>\n",
       "      <td>1</td>\n",
       "      <td>156</td>\n",
       "      <td>56.0</td>\n",
       "      <td>100</td>\n",
       "      <td>60</td>\n",
       "      <td>1</td>\n",
       "      <td>1</td>\n",
       "      <td>0</td>\n",
       "      <td>0</td>\n",
       "      <td>0</td>\n",
       "      <td>0</td>\n",
       "    </tr>\n",
       "    <tr>\n",
       "      <th>...</th>\n",
       "      <td>...</td>\n",
       "      <td>...</td>\n",
       "      <td>...</td>\n",
       "      <td>...</td>\n",
       "      <td>...</td>\n",
       "      <td>...</td>\n",
       "      <td>...</td>\n",
       "      <td>...</td>\n",
       "      <td>...</td>\n",
       "      <td>...</td>\n",
       "      <td>...</td>\n",
       "      <td>...</td>\n",
       "      <td>...</td>\n",
       "    </tr>\n",
       "    <tr>\n",
       "      <th>69994</th>\n",
       "      <td>99992</td>\n",
       "      <td>58.0</td>\n",
       "      <td>1</td>\n",
       "      <td>165</td>\n",
       "      <td>80.0</td>\n",
       "      <td>150</td>\n",
       "      <td>80</td>\n",
       "      <td>1</td>\n",
       "      <td>1</td>\n",
       "      <td>0</td>\n",
       "      <td>0</td>\n",
       "      <td>1</td>\n",
       "      <td>1</td>\n",
       "    </tr>\n",
       "    <tr>\n",
       "      <th>69995</th>\n",
       "      <td>99993</td>\n",
       "      <td>53.0</td>\n",
       "      <td>2</td>\n",
       "      <td>168</td>\n",
       "      <td>76.0</td>\n",
       "      <td>120</td>\n",
       "      <td>80</td>\n",
       "      <td>1</td>\n",
       "      <td>1</td>\n",
       "      <td>1</td>\n",
       "      <td>0</td>\n",
       "      <td>1</td>\n",
       "      <td>0</td>\n",
       "    </tr>\n",
       "    <tr>\n",
       "      <th>69996</th>\n",
       "      <td>99995</td>\n",
       "      <td>62.0</td>\n",
       "      <td>1</td>\n",
       "      <td>158</td>\n",
       "      <td>126.0</td>\n",
       "      <td>140</td>\n",
       "      <td>90</td>\n",
       "      <td>2</td>\n",
       "      <td>2</td>\n",
       "      <td>0</td>\n",
       "      <td>0</td>\n",
       "      <td>1</td>\n",
       "      <td>1</td>\n",
       "    </tr>\n",
       "    <tr>\n",
       "      <th>69998</th>\n",
       "      <td>99998</td>\n",
       "      <td>61.0</td>\n",
       "      <td>1</td>\n",
       "      <td>163</td>\n",
       "      <td>72.0</td>\n",
       "      <td>135</td>\n",
       "      <td>80</td>\n",
       "      <td>1</td>\n",
       "      <td>2</td>\n",
       "      <td>0</td>\n",
       "      <td>0</td>\n",
       "      <td>0</td>\n",
       "      <td>1</td>\n",
       "    </tr>\n",
       "    <tr>\n",
       "      <th>69999</th>\n",
       "      <td>99999</td>\n",
       "      <td>56.0</td>\n",
       "      <td>1</td>\n",
       "      <td>170</td>\n",
       "      <td>72.0</td>\n",
       "      <td>120</td>\n",
       "      <td>80</td>\n",
       "      <td>2</td>\n",
       "      <td>1</td>\n",
       "      <td>0</td>\n",
       "      <td>0</td>\n",
       "      <td>1</td>\n",
       "      <td>0</td>\n",
       "    </tr>\n",
       "  </tbody>\n",
       "</table>\n",
       "<p>67185 rows × 13 columns</p>\n",
       "</div>"
      ],
      "text/plain": [
       "          id   age  gender  height  weight  ...  gluc  smoke  alco  active  cardio\n",
       "0          0  50.0       2     168    62.0  ...     1      0     0       1       0\n",
       "1          1  55.0       1     156    85.0  ...     1      0     0       1       1\n",
       "2          2  52.0       1     165    64.0  ...     1      0     0       0       1\n",
       "3          3  48.0       2     169    82.0  ...     1      0     0       1       1\n",
       "4          4  48.0       1     156    56.0  ...     1      0     0       0       0\n",
       "...      ...   ...     ...     ...     ...  ...   ...    ...   ...     ...     ...\n",
       "69994  99992  58.0       1     165    80.0  ...     1      0     0       1       1\n",
       "69995  99993  53.0       2     168    76.0  ...     1      1     0       1       0\n",
       "69996  99995  62.0       1     158   126.0  ...     2      0     0       1       1\n",
       "69998  99998  61.0       1     163    72.0  ...     2      0     0       0       1\n",
       "69999  99999  56.0       1     170    72.0  ...     1      0     0       1       0\n",
       "\n",
       "[67185 rows x 13 columns]"
      ]
     },
     "execution_count": 12,
     "metadata": {
      "tags": []
     },
     "output_type": "execute_result"
    }
   ],
   "source": [
    "df['age']=(df['age']/365).round()\n",
    "df"
   ]
  },
  {
   "cell_type": "code",
   "execution_count": 13,
   "metadata": {
    "colab": {
     "base_uri": "https://localhost:8080/",
     "height": 151
    },
    "colab_type": "code",
    "id": "gCll_TeJStiW",
    "outputId": "1ab2a501-1459-4a7a-a86d-878726a223df"
   },
   "outputs": [
    {
     "name": "stdout",
     "output_type": "stream",
     "text": [
      "667\n",
      "2366\n",
      "7682\n",
      "12517\n",
      "17668\n",
      "16361\n",
      "6775\n",
      "3149\n"
     ]
    }
   ],
   "source": [
    "print(df.age[(df.age<=40) & (df.cardio==1)].count())\n",
    "print(df.age[(df.age<=40) & (df.cardio==0)].count())\n",
    "print(df.age[((df.age>40)&(df.age<=50)) & (df.cardio==1)].count())\n",
    "print(df.age[((df.age>40)&(df.age<=50)) & (df.cardio==0)].count())\n",
    "\n",
    "print(df.age[((df.age>50)&(df.age<=60)) & (df.cardio==1)].count())\n",
    "print(df.age[((df.age>50)&(df.age<=60)) & (df.cardio==0)].count())\n",
    "\n",
    "print(df.age[(df.age>=61) & (df.cardio==1)].count())\n",
    "print(df.age[(df.age>=61) & (df.cardio==0)].count())"
   ]
  },
  {
   "cell_type": "markdown",
   "metadata": {},
   "source": [
    "### Graph Plotting\n",
    "A line graph and bar graph are plotted to demonstrate the interrelationship between Age & Heart disease and Gender & Heart disease, respectively."
   ]
  },
  {
   "cell_type": "markdown",
   "metadata": {},
   "source": [
    "#### Line graph \n",
    "\n",
    "The data points are balanced between the sets of people with and without heart disease equally. But it can be seen from the graph that in the age group ranging from 41–60 years, the rate of heart disease remains the highest."
   ]
  },
  {
   "cell_type": "code",
   "execution_count": 14,
   "metadata": {
    "colab": {
     "base_uri": "https://localhost:8080/",
     "height": 350
    },
    "colab_type": "code",
    "id": "NHT_PpKCStia",
    "outputId": "2cd62d45-5cc0-4008-bb49-860e1a82092e",
    "scrolled": true
   },
   "outputs": [
    {
     "data": {
      "image/png": "[encoded data removed]",
      "text/plain": [
       "<Figure size 576x360 with 1 Axes>"
      ]
     },
     "metadata": {
      "needs_background": "light",
      "tags": []
     },
     "output_type": "display_data"
    }
   ],
   "source": [
    "plt.subplots(figsize =(8,5))\n",
    "classifiers = ['<=40', '41–50', '51–60','61 and Above']\n",
    "heart_disease = [667, 7682, 17668, 6775]\n",
    "no_heart_disease = [2366, 12517, 16361, 3149]\n",
    "l1 = plt.plot(classifiers, heart_disease , color='r', marker='s', linestyle ='solid', markerfacecolor='k', markersize=7)\n",
    "l2 = plt.plot(classifiers, no_heart_disease, color='b',marker='s', linestyle ='solid', markerfacecolor='k', markersize=7)\n",
    "plt.xlabel('Age')\n",
    "plt.ylabel('Number of patients')\n",
    "plt.title('Age V/s Heart disease')\n",
    "plt.legend((l1[0], l2[0]), ('heart_disease', 'no_heart_disease'))\n",
    "plt.show()"
   ]
  },
  {
   "cell_type": "code",
   "execution_count": 15,
   "metadata": {
    "colab": {
     "base_uri": "https://localhost:8080/",
     "height": 84
    },
    "colab_type": "code",
    "id": "nSagHNqmStid",
    "outputId": "43c8ab21-1348-45ae-9109-5d1d60094d75"
   },
   "outputs": [
    {
     "name": "stdout",
     "output_type": "stream",
     "text": [
      "43838\n",
      "21331\n",
      "23347\n",
      "11461\n"
     ]
    }
   ],
   "source": [
    "print(df.gender[(df.gender==1)].count())\n",
    "print(df.gender[(df.gender==1) & (df.cardio==1)].count())\n",
    "print(df.gender[(df.gender==2)].count())\n",
    "print(df.gender[(df.gender==2) & (df.cardio==1)].count())"
   ]
  },
  {
   "cell_type": "markdown",
   "metadata": {},
   "source": [
    "#### Bar Graph\n",
    "The total number of males and females in the dataset is 23347 and 43838, respectively. It can be seen from the bar graph that out of 23347 males 11461 have a heart disease and out of 43838 females 21331 are suffering from a heart disease."
   ]
  },
  {
   "cell_type": "code",
   "execution_count": 16,
   "metadata": {
    "colab": {
     "base_uri": "https://localhost:8080/",
     "height": 390
    },
    "colab_type": "code",
    "id": "QDY5iNYDStig",
    "outputId": "5b5cdf2b-55c1-4101-ab06-cc26bd69ac26"
   },
   "outputs": [
    {
     "data": {
      "image/png": "[encoded data removed]",
      "text/plain": [
       "<Figure size 576x432 with 1 Axes>"
      ]
     },
     "metadata": {
      "needs_background": "light",
      "tags": []
     },
     "output_type": "display_data"
    }
   ],
   "source": [
    "N = 2\n",
    "ind = np.arange(N)\n",
    "width = 0.1\n",
    "fig, ax = plt.subplots(figsize =(8,6))\n",
    "heart_disease = [21331, 11461]\n",
    "rects1 = ax.bar(ind, heart_disease, width, color='m')\n",
    "no_heart_disease = [22507, 11886]\n",
    "rects2 = ax.bar(ind+width, no_heart_disease, width, color='c')\n",
    "ax.set_ylabel('Count')\n",
    "ax.set_title('Gender based distribution of heart disease')\n",
    "ax.set_xticks(ind)\n",
    "ax.set_xticklabels(('Male','Female'))\n",
    "ax.legend((rects1[0], rects2[0]), ('heart disease', 'no heart disease'))\n",
    "plt.show()"
   ]
  },
  {
   "cell_type": "markdown",
   "metadata": {},
   "source": [
    "### Feature Selection\n",
    "\n",
    " Since irrelevant or partially relevant features can negatively impact the model performance, in order to achieve better accuracy for the model I identified the highly important features from the dataset by implementing a feature selection method - Correlation Matrix with Heatmap."
   ]
  },
  {
   "cell_type": "code",
   "execution_count": 17,
   "metadata": {
    "colab": {
     "base_uri": "https://localhost:8080/",
     "height": 759
    },
    "colab_type": "code",
    "id": "KhW-muaAStij",
    "outputId": "f5c613de-79e4-4328-8095-b0ca994c53a4"
   },
   "outputs": [
    {
     "data": {
      "image/png": "[encoded data removed]",
      "text/plain": [
       "<Figure size 936x936 with 2 Axes>"
      ]
     },
     "metadata": {
      "needs_background": "light",
      "tags": []
     },
     "output_type": "display_data"
    }
   ],
   "source": [
    "corrmat = df.corr()\n",
    "top_corr_features = corrmat.index\n",
    "plt.figure(figsize=(13,13))\n",
    "#plot heat map\n",
    "g=sns.heatmap(df[top_corr_features].corr(),annot=True,cmap=\"viridis\")"
   ]
  },
  {
   "cell_type": "markdown",
   "metadata": {},
   "source": [
    "Age,gender,weight,ap_hi,ap_lo,cholestrol and gluc were the highly correlated features with the cardio variable.So the less important features were removed."
   ]
  },
  {
   "cell_type": "code",
   "execution_count": 18,
   "metadata": {
    "colab": {
     "base_uri": "https://localhost:8080/",
     "height": 195
    },
    "colab_type": "code",
    "id": "zIHw2QItStim",
    "outputId": "3d122de7-b362-4470-e866-56b176d1d484"
   },
   "outputs": [
    {
     "data": {
      "text/html": [
       "<div>\n",
       "<style scoped>\n",
       "    .dataframe tbody tr th:only-of-type {\n",
       "        vertical-align: middle;\n",
       "    }\n",
       "\n",
       "    .dataframe tbody tr th {\n",
       "        vertical-align: top;\n",
       "    }\n",
       "\n",
       "    .dataframe thead th {\n",
       "        text-align: right;\n",
       "    }\n",
       "</style>\n",
       "<table border=\"1\" class=\"dataframe\">\n",
       "  <thead>\n",
       "    <tr style=\"text-align: right;\">\n",
       "      <th></th>\n",
       "      <th>id</th>\n",
       "      <th>age</th>\n",
       "      <th>gender</th>\n",
       "      <th>weight</th>\n",
       "      <th>ap_hi</th>\n",
       "      <th>ap_lo</th>\n",
       "      <th>cholesterol</th>\n",
       "      <th>gluc</th>\n",
       "    </tr>\n",
       "  </thead>\n",
       "  <tbody>\n",
       "    <tr>\n",
       "      <th>0</th>\n",
       "      <td>0</td>\n",
       "      <td>50.0</td>\n",
       "      <td>2</td>\n",
       "      <td>62.0</td>\n",
       "      <td>110</td>\n",
       "      <td>80</td>\n",
       "      <td>1</td>\n",
       "      <td>1</td>\n",
       "    </tr>\n",
       "    <tr>\n",
       "      <th>1</th>\n",
       "      <td>1</td>\n",
       "      <td>55.0</td>\n",
       "      <td>1</td>\n",
       "      <td>85.0</td>\n",
       "      <td>140</td>\n",
       "      <td>90</td>\n",
       "      <td>3</td>\n",
       "      <td>1</td>\n",
       "    </tr>\n",
       "    <tr>\n",
       "      <th>2</th>\n",
       "      <td>2</td>\n",
       "      <td>52.0</td>\n",
       "      <td>1</td>\n",
       "      <td>64.0</td>\n",
       "      <td>130</td>\n",
       "      <td>70</td>\n",
       "      <td>3</td>\n",
       "      <td>1</td>\n",
       "    </tr>\n",
       "    <tr>\n",
       "      <th>3</th>\n",
       "      <td>3</td>\n",
       "      <td>48.0</td>\n",
       "      <td>2</td>\n",
       "      <td>82.0</td>\n",
       "      <td>150</td>\n",
       "      <td>100</td>\n",
       "      <td>1</td>\n",
       "      <td>1</td>\n",
       "    </tr>\n",
       "    <tr>\n",
       "      <th>4</th>\n",
       "      <td>4</td>\n",
       "      <td>48.0</td>\n",
       "      <td>1</td>\n",
       "      <td>56.0</td>\n",
       "      <td>100</td>\n",
       "      <td>60</td>\n",
       "      <td>1</td>\n",
       "      <td>1</td>\n",
       "    </tr>\n",
       "  </tbody>\n",
       "</table>\n",
       "</div>"
      ],
      "text/plain": [
       "   id   age  gender  weight  ap_hi  ap_lo  cholesterol  gluc\n",
       "0   0  50.0       2    62.0    110     80            1     1\n",
       "1   1  55.0       1    85.0    140     90            3     1\n",
       "2   2  52.0       1    64.0    130     70            3     1\n",
       "3   3  48.0       2    82.0    150    100            1     1\n",
       "4   4  48.0       1    56.0    100     60            1     1"
      ]
     },
     "execution_count": 18,
     "metadata": {
      "tags": []
     },
     "output_type": "execute_result"
    }
   ],
   "source": [
    "df=df.drop(['height','smoke','alco','active'], axis=1)\n",
    "cardio=df['cardio']\n",
    "df = df.drop(['cardio'],axis=1)\n",
    "df.head()"
   ]
  },
  {
   "cell_type": "markdown",
   "metadata": {},
   "source": [
    "Split the dataset\n",
    "\n",
    "Here I am splitting the dataset in the ratio 70:30 to create training and testing subsets."
   ]
  },
  {
   "cell_type": "code",
   "execution_count": 20,
   "metadata": {
    "colab": {},
    "colab_type": "code",
    "id": "2Pc5wycMStip"
   },
   "outputs": [],
   "source": [
    "#  split data into training and testing set:\n",
    "x_train, x_test, y_train, y_test = train_test_split(df, cardio, test_size=0.3, random_state=10)"
   ]
  },
  {
   "cell_type": "markdown",
   "metadata": {
    "colab_type": "text",
    "id": "MiDLdZPaStit"
   },
   "source": [
    "# Base Learners\n"
   ]
  },
  {
   "cell_type": "markdown",
   "metadata": {},
   "source": [
    "In this analysis Multinomial NB, Logistic Regression, Decision Tree and Random Forest are regarded as the base learners. I've used Confusion matrix to describe the performance of these classifiers."
   ]
  },
  {
   "cell_type": "code",
   "execution_count": 21,
   "metadata": {
    "colab": {},
    "colab_type": "code",
    "id": "9oX36xjAStit"
   },
   "outputs": [],
   "source": [
    "clfs = []\n",
    "kfolds = StratifiedKFold(n_splits=5, shuffle=True, random_state=1)\n",
    "np.random.seed(1)"
   ]
  },
  {
   "cell_type": "code",
   "execution_count": 43,
   "metadata": {
    "colab": {
     "base_uri": "https://localhost:8080/",
     "height": 353
    },
    "colab_type": "code",
    "id": "IJfsXyo7oDbg",
    "outputId": "3e34c6d2-d2e8-4dde-8f94-8d0040d8ae4d"
   },
   "outputs": [
    {
     "data": {
      "text/plain": [
       "[MultinomialNB(alpha=1.0, class_prior=None, fit_prior=True),\n",
       " LogisticRegression(C=1.0, class_weight=None, dual=False, fit_intercept=True,\n",
       "                    intercept_scaling=1, l1_ratio=None, max_iter=100,\n",
       "                    multi_class='auto', n_jobs=None, penalty='l2',\n",
       "                    random_state=None, solver='lbfgs', tol=0.0001, verbose=0,\n",
       "                    warm_start=False),\n",
       " DecisionTreeClassifier(ccp_alpha=0.0, class_weight=None, criterion='gini',\n",
       "                        max_depth=3, max_features=None, max_leaf_nodes=None,\n",
       "                        min_impurity_decrease=0.0, min_impurity_split=None,\n",
       "                        min_samples_leaf=5, min_samples_split=2,\n",
       "                        min_weight_fraction_leaf=0.0, presort='deprecated',\n",
       "                        random_state=50, splitter='best'),\n",
       " RandomForestClassifier(bootstrap=True, ccp_alpha=0.0, class_weight=None,\n",
       "                        criterion='gini', max_depth=None, max_features='auto',\n",
       "                        max_leaf_nodes=None, max_samples=None,\n",
       "                        min_impurity_decrease=0.0, min_impurity_split=None,\n",
       "                        min_samples_leaf=1, min_samples_split=2,\n",
       "                        min_weight_fraction_leaf=0.0, n_estimators=100,\n",
       "                        n_jobs=None, oob_score=False, random_state=123,\n",
       "                        verbose=0, warm_start=False)]"
      ]
     },
     "execution_count": 43,
     "metadata": {
      "tags": []
     },
     "output_type": "execute_result"
    }
   ],
   "source": [
    "clfs"
   ]
  },
  {
   "cell_type": "code",
   "execution_count": 1,
   "metadata": {
    "colab": {
     "base_uri": "https://localhost:8080/",
     "height": 370
    },
    "colab_type": "code",
    "id": "wjWISHXFVL_G",
    "outputId": "282ddcb0-64ba-4fa4-d9db-f126b158db3a"
   },
   "outputs": [
    {
     "ename": "NameError",
     "evalue": "name 'make_pipeline' is not defined",
     "output_type": "error",
     "traceback": [
      "\u001b[1;31m---------------------------------------------------------------------------\u001b[0m",
      "\u001b[1;31mNameError\u001b[0m                                 Traceback (most recent call last)",
      "\u001b[1;32m<ipython-input-1-f0982ec0357d>\u001b[0m in \u001b[0;36m<module>\u001b[1;34m\u001b[0m\n\u001b[1;32m----> 1\u001b[1;33m \u001b[0mpipeline_svm\u001b[0m \u001b[1;33m=\u001b[0m \u001b[0mmake_pipeline\u001b[0m\u001b[1;33m(\u001b[0m\u001b[0mSVC\u001b[0m\u001b[1;33m(\u001b[0m\u001b[0mprobability\u001b[0m\u001b[1;33m=\u001b[0m\u001b[1;32mTrue\u001b[0m\u001b[1;33m,\u001b[0m \u001b[0mkernel\u001b[0m\u001b[1;33m=\u001b[0m\u001b[1;34m\"linear\"\u001b[0m\u001b[1;33m,\u001b[0m \u001b[0mclass_weight\u001b[0m\u001b[1;33m=\u001b[0m\u001b[1;34m\"balanced\"\u001b[0m\u001b[1;33m)\u001b[0m\u001b[1;33m)\u001b[0m\u001b[1;33m\u001b[0m\u001b[1;33m\u001b[0m\u001b[0m\n\u001b[0m\u001b[0;32m      2\u001b[0m grid_svm = GridSearchCV(pipeline_svm,\n\u001b[0;32m      3\u001b[0m  param_grid = {'svc__C': [0.01, 0.1, 1]},cv = kfolds, verbose=1,n_jobs=-1)\n\u001b[0;32m      4\u001b[0m \u001b[0mgrid_svm\u001b[0m\u001b[1;33m.\u001b[0m\u001b[0mfit\u001b[0m\u001b[1;33m(\u001b[0m\u001b[0mx_train\u001b[0m\u001b[1;33m,\u001b[0m \u001b[0my_train\u001b[0m\u001b[1;33m)\u001b[0m\u001b[1;33m\u001b[0m\u001b[1;33m\u001b[0m\u001b[0m\n\u001b[0;32m      5\u001b[0m \u001b[0mgrid_svm\u001b[0m\u001b[1;33m.\u001b[0m\u001b[0mscore\u001b[0m\u001b[1;33m(\u001b[0m\u001b[0mx_test\u001b[0m\u001b[1;33m,\u001b[0m \u001b[0my_test\u001b[0m\u001b[1;33m)\u001b[0m\u001b[1;33m\u001b[0m\u001b[1;33m\u001b[0m\u001b[0m\n",
      "\u001b[1;31mNameError\u001b[0m: name 'make_pipeline' is not defined"
     ]
    }
   ],
   "source": [
    "pipeline_svm = make_pipeline(SVC(probability=True, kernel=\"linear\", class_weight=\"balanced\"))\n",
    "grid_svm = GridSearchCV(pipeline_svm,\n",
    " param_grid = {'svc__C': [0.01, 0.1, 1]},cv = kfolds, verbose=1,n_jobs=-1)\n",
    "grid_svm.fit(x_train, y_train)\n",
    "grid_svm.score(x_test, y_test)\n",
    "print(\"\\nBest Model: %f using %s\" % (grid_svm.best_score_, grid_svm.best_params_))\n",
    "print('\\n')\n",
    "print('SVM LogLoss {score}'.format(score=log_loss(y_test, grid_svm.predict_proba(x_test))))\n",
    "clfs.append(grid_svm)\n",
    "# save best model to current working directory\n",
    "joblib.dump(grid_svm, \"heart_disease.pkl\")"
   ]
  },
  {
   "cell_type": "markdown",
   "metadata": {},
   "source": [
    " ### Multinomial Naïve Bayes"
   ]
  },
  {
   "cell_type": "code",
   "execution_count": 23,
   "metadata": {
    "colab": {
     "base_uri": "https://localhost:8080/",
     "height": 50
    },
    "colab_type": "code",
    "id": "fh5EonOGStiv",
    "outputId": "b163fb84-9b13-40cd-e8a1-7f904f8e73fb"
   },
   "outputs": [
    {
     "name": "stdout",
     "output_type": "stream",
     "text": [
      "MultinomialNB LogLoss 5.7465180787051935\n"
     ]
    },
    {
     "data": {
      "text/plain": [
       "['heart_disease.pkl']"
      ]
     },
     "execution_count": 23,
     "metadata": {
      "tags": []
     },
     "output_type": "execute_result"
    }
   ],
   "source": [
    "classifierNB=MultinomialNB()\n",
    "classifierNB.fit(x_train,y_train)\n",
    "classifierNB.score(x_test, y_test)\n",
    "print('MultinomialNB LogLoss {score}'.format(score=log_loss(y_test, classifierNB.predict_proba(x_test))))\n",
    "clfs.append(classifierNB)\n",
    "joblib.dump(classifierNB, \"heart_disease.pkl\")"
   ]
  },
  {
   "cell_type": "code",
   "execution_count": 25,
   "metadata": {
    "colab": {},
    "colab_type": "code",
    "id": "xTWzMSDKStiz"
   },
   "outputs": [],
   "source": [
    "model_classifierNB = joblib.load(\"heart_disease.pkl\" )"
   ]
  },
  {
   "cell_type": "code",
   "execution_count": 27,
   "metadata": {
    "colab": {
     "base_uri": "https://localhost:8080/",
     "height": 530
    },
    "colab_type": "code",
    "id": "E09EA3uSSti1",
    "outputId": "0514438e-1918-427d-c9c0-603aabc19c7c"
   },
   "outputs": [
    {
     "name": "stdout",
     "output_type": "stream",
     "text": [
      "MultinomialNB accuracy score:  0.521978567176027\n",
      "\n",
      "\n"
     ]
    },
    {
     "data": {
      "image/png": "[encoded data removed]",
      "text/plain": [
       "<Figure size 432x288 with 2 Axes>"
      ]
     },
     "metadata": {
      "needs_background": "light",
      "tags": []
     },
     "output_type": "display_data"
    },
    {
     "name": "stdout",
     "output_type": "stream",
     "text": [
      "\n",
      "\n",
      "              precision    recall  f1-score   support\n",
      "\n",
      "           0       0.54      0.52      0.53     10362\n",
      "           1       0.51      0.52      0.51      9794\n",
      "\n",
      "    accuracy                           0.52     20156\n",
      "   macro avg       0.52      0.52      0.52     20156\n",
      "weighted avg       0.52      0.52      0.52     20156\n",
      "\n"
     ]
    }
   ],
   "source": [
    "y_preds = model_classifierNB.predict(x_test)\n",
    "print('MultinomialNB accuracy score: ',accuracy_score(y_test, y_preds))\n",
    "print('\\n')\n",
    "#import pylab as plt\n",
    "labels=[0,1]\n",
    "cmx=confusion_matrix(y_test,y_preds, labels)\n",
    "cmx_df = pd.DataFrame(cmx)\n",
    "plt.title('Confusion matrix of the classifier')\n",
    "\n",
    "heatmap = sns.heatmap(cmx_df, annot=True, annot_kws={\"size\": 10}, fmt=\"d\")\n",
    "plt.xlabel('Predicted')\n",
    "plt.ylabel('Actual')\n",
    "plt.show()\n",
    "# print(cmx)\n",
    "# fig = plt.figure()\n",
    "# ax = fig.add_subplot(111)\n",
    "# cax = ax.matshow(cmx)\n",
    "# plt.title('Confusion matrix of the classifier')\n",
    "# fig.colorbar(cax)\n",
    "# ax.set_xticklabels([''] + labels)\n",
    "# ax.set_yticklabels([''] + labels)\n",
    "# plt.xlabel('Predicted')\n",
    "# plt.ylabel('Actual')\n",
    "# plt.show()\n",
    "print('\\n')\n",
    "print(classification_report(y_test, y_preds))"
   ]
  },
  {
   "cell_type": "markdown",
   "metadata": {},
   "source": [
    "### Logistic Regression (LR)"
   ]
  },
  {
   "cell_type": "code",
   "execution_count": 28,
   "metadata": {
    "colab": {
     "base_uri": "https://localhost:8080/",
     "height": 34
    },
    "colab_type": "code",
    "id": "kikHNmVnSti3",
    "outputId": "548e900d-d352-4cc3-8211-37881e66d1ab"
   },
   "outputs": [
    {
     "name": "stdout",
     "output_type": "stream",
     "text": [
      "LogisticRegression LogLoss 0.6710967130064954\n"
     ]
    }
   ],
   "source": [
    "classifierLR=LogisticRegression()\n",
    "classifierLR.fit(x_train,y_train)\n",
    "classifierLR.score(x_test, y_test)\n",
    "print('LogisticRegression LogLoss {score}'.format(score=log_loss(y_test, classifierLR.predict_proba(x_test))))\n",
    "clfs.append(classifierLR)"
   ]
  },
  {
   "cell_type": "code",
   "execution_count": 29,
   "metadata": {
    "colab": {},
    "colab_type": "code",
    "id": "z-XgnHGcSti5"
   },
   "outputs": [],
   "source": [
    "joblib.dump(classifierLR, \"heart_disease.pkl\")\n",
    "# load from file and predict using the best configs found in the CV step\n",
    "model_classifierLR = joblib.load(\"heart_disease.pkl\")"
   ]
  },
  {
   "cell_type": "code",
   "execution_count": 32,
   "metadata": {
    "colab": {
     "base_uri": "https://localhost:8080/",
     "height": 530
    },
    "colab_type": "code",
    "id": "wu57kZkfSti7",
    "outputId": "6b7942aa-6f05-4d61-978d-d96117646f89"
   },
   "outputs": [
    {
     "name": "stdout",
     "output_type": "stream",
     "text": [
      "Logistic Regression accuracy score:  0.5727822980750149\n",
      "\n",
      "\n"
     ]
    },
    {
     "data": {
      "image/png": "[encoded data removed]",
      "text/plain": [
       "<Figure size 432x288 with 2 Axes>"
      ]
     },
     "metadata": {
      "needs_background": "light",
      "tags": []
     },
     "output_type": "display_data"
    },
    {
     "name": "stdout",
     "output_type": "stream",
     "text": [
      "\n",
      "\n",
      "              precision    recall  f1-score   support\n",
      "\n",
      "           0       0.58      0.59      0.59     10362\n",
      "           1       0.56      0.55      0.56      9794\n",
      "\n",
      "    accuracy                           0.57     20156\n",
      "   macro avg       0.57      0.57      0.57     20156\n",
      "weighted avg       0.57      0.57      0.57     20156\n",
      "\n"
     ]
    }
   ],
   "source": [
    "y_preds = model_classifierLR.predict(x_test)\n",
    "print('Logistic Regression accuracy score: ',accuracy_score(y_test, y_preds))\n",
    "print('\\n')\n",
    "#import pylab as plt\n",
    "labels=[0,1]\n",
    "cmx=confusion_matrix(y_test,y_preds, labels)\n",
    "cmx_df = pd.DataFrame(cmx)\n",
    "plt.title('Confusion matrix of the classifier')\n",
    "\n",
    "heatmap = sns.heatmap(cmx_df, annot=True, annot_kws={\"size\": 10}, fmt=\"d\")\n",
    "plt.xlabel('Predicted')\n",
    "plt.ylabel('Actual')\n",
    "plt.show()\n",
    "# print(cmx)\n",
    "# fig = plt.figure()\n",
    "# ax = fig.add_subplot(111)\n",
    "# cax = ax.matshow(cmx)\n",
    "# plt.title('Confusion matrix of the classifier')\n",
    "# fig.colorbar(cax)\n",
    "# ax.set_xticklabels([''] + labels)\n",
    "# ax.set_yticklabels([''] + labels)\n",
    "# plt.xlabel('Predicted')\n",
    "# plt.ylabel('Actual')\n",
    "# plt.show()\n",
    "print('\\n')\n",
    "print(classification_report(y_test, y_preds))"
   ]
  },
  {
   "cell_type": "markdown",
   "metadata": {},
   "source": [
    "### Decision Tree (DT)"
   ]
  },
  {
   "cell_type": "code",
   "execution_count": 33,
   "metadata": {
    "colab": {
     "base_uri": "https://localhost:8080/",
     "height": 547
    },
    "colab_type": "code",
    "id": "nD1p7vXISti-",
    "outputId": "3cf037d4-1fd2-4607-d6bc-8620b9df7cab"
   },
   "outputs": [
    {
     "name": "stdout",
     "output_type": "stream",
     "text": [
      "Decision Tree LogLoss 0.5602683194599382\n",
      "Decision Tree accuracy score:  0.7204802540186545\n",
      "\n",
      "\n"
     ]
    },
    {
     "data": {
      "image/png": "[encoded data removed]",
      "text/plain": [
       "<Figure size 432x288 with 2 Axes>"
      ]
     },
     "metadata": {
      "needs_background": "light",
      "tags": []
     },
     "output_type": "display_data"
    },
    {
     "name": "stdout",
     "output_type": "stream",
     "text": [
      "\n",
      "\n",
      "              precision    recall  f1-score   support\n",
      "\n",
      "           0       0.71      0.78      0.74     10362\n",
      "           1       0.74      0.66      0.70      9794\n",
      "\n",
      "    accuracy                           0.72     20156\n",
      "   macro avg       0.72      0.72      0.72     20156\n",
      "weighted avg       0.72      0.72      0.72     20156\n",
      "\n"
     ]
    }
   ],
   "source": [
    "classifierDT=DecisionTreeClassifier(criterion=\"gini\", random_state=50, max_depth=3, min_samples_leaf=5)\n",
    "classifierDT.fit(x_train,y_train)\n",
    "classifierDT.score(x_test, y_test)\n",
    "print('Decision Tree LogLoss {score}'.format(score=log_loss(y_test, classifierDT.predict_proba(x_test))))\n",
    "clfs.append(classifierDT)\n",
    "# save best model to current working directory\n",
    "joblib.dump(classifierDT, \"heart_disease.pkl\")\n",
    "# load from file and predict using the best configs found in the CV step\n",
    "model_classifierDT = joblib.load(\"heart_disease.pkl\")\n",
    "# get predictions from best model above\n",
    "y_preds = model_classifierDT.predict(x_test)\n",
    "print(\"Decision Tree accuracy score: \",accuracy_score(y_test, y_preds))\n",
    "print('\\n')\n",
    "#import pylab as plt\n",
    "labels=[0,1]\n",
    "cmx=confusion_matrix(y_test,y_preds, labels)\n",
    "cmx_df = pd.DataFrame(cmx)\n",
    "plt.title('Confusion matrix of the classifier')\n",
    "\n",
    "heatmap = sns.heatmap(cmx_df, annot=True, annot_kws={\"size\": 10}, fmt=\"d\")\n",
    "plt.xlabel('Predicted')\n",
    "plt.ylabel('Actual')\n",
    "plt.show()\n",
    "# print(cmx)\n",
    "# fig = plt.figure()\n",
    "# ax = fig.add_subplot(111)\n",
    "# cax = ax.matshow(cmx)\n",
    "# plt.title('Confusion matrix of the classifier')\n",
    "# fig.colorbar(cax)\n",
    "# ax.set_xticklabels([''] + labels)\n",
    "# ax.set_yticklabels([''] + labels)\n",
    "# plt.xlabel('Predicted')\n",
    "# plt.ylabel('Actual')\n",
    "# plt.show()\n",
    "print('\\n')\n",
    "print(classification_report(y_test, y_preds))"
   ]
  },
  {
   "cell_type": "markdown",
   "metadata": {},
   "source": [
    "### Random Forest (RF)"
   ]
  },
  {
   "cell_type": "code",
   "execution_count": null,
   "metadata": {
    "colab": {
     "base_uri": "https://localhost:8080/",
     "height": 547
    },
    "colab_type": "code",
    "id": "Rn97FXi3StjA",
    "outputId": "f85f1f3f-bf2f-4cc9-8739-655870cbe589"
   },
   "outputs": [],
   "source": [
    "classifierRF=RandomForestClassifier(random_state=123)\n",
    "classifierRF.fit(x_train,y_train)\n",
    "classifierRF.score(x_test, y_test)\n",
    "print('RandomForest LogLoss {score}'.format(score=log_loss(y_test, classifierRF.predict_proba(x_test))))\n",
    "clfs.append(classifierRF)\n",
    "# save best model to current working directory\n",
    "joblib.dump(classifierRF, \"heart_disease.pkl\")\n",
    "# load from file and predict using the best configs found in the CV step\n",
    "model_classifierRF = joblib.load(\"heart_disease.pkl\" )\n",
    "# get predictions from best model above\n",
    "y_preds = model_classifierRF.predict(x_test)\n",
    "print('Random Forest accuracy score: ',accuracy_score(y_test, y_preds))\n",
    "print('\\n')\n",
    "#import pylab as plt\n",
    "labels=[0,1]\n",
    "cmx=confusion_matrix(y_test,y_preds, labels)\n",
    "#print(cmx)\n",
    "\n",
    "cmx_df = pd.DataFrame(cmx)\n",
    "plt.title('Confusion matrix of the classifier')\n",
    "\n",
    "heatmap = sns.heatmap(cmx_df, annot=True, annot_kws={\"size\": 10}, fmt=\"d\")\n",
    "plt.xlabel('Predicted')\n",
    "plt.ylabel('Actual')\n",
    "plt.show()\n",
    "'''\n",
    "fig = plt.figure()\n",
    "ax = fig.add_subplot(111)\n",
    "cax = ax.matshow(cmx)\n",
    "plt.title('Confusion matrix of the classifier')\n",
    "fig.colorbar(cax)\n",
    "ax.set_xticklabels([''] + labels)\n",
    "ax.set_yticklabels([''] + labels)\n",
    "plt.xlabel('Predicted')\n",
    "plt.ylabel('Actual')\n",
    "plt.show()\n",
    "'''\n",
    "print('\\n')\n",
    "print(classification_report(y_test, y_preds))\n"
   ]
  },
  {
   "cell_type": "markdown",
   "metadata": {},
   "source": [
    "## Accuracy of Base Learners"
   ]
  },
  {
   "cell_type": "code",
   "execution_count": 35,
   "metadata": {
    "colab": {
     "base_uri": "https://localhost:8080/",
     "height": 185
    },
    "colab_type": "code",
    "id": "pbJtB1TtStjB",
    "outputId": "0a42dd5d-8bc2-4d3c-d2c1-51c44e865182"
   },
   "outputs": [
    {
     "name": "stdout",
     "output_type": "stream",
     "text": [
      "Accuracy of naive bayes: 0.521978567176027\n",
      "\n",
      "\n",
      "Accuracy of logistic regression: 0.5727822980750149\n",
      "\n",
      "\n",
      "Accuracy of decision tree: 0.7204802540186545\n",
      "\n",
      "\n",
      "Accuracy of random forest: 0.6964179400674737\n"
     ]
    }
   ],
   "source": [
    "#print(‘Accuracy of svm: {}’.format(grid_svm.score(x_test, y_test)))\n",
    "#print(‘\\n’)\n",
    "print('Accuracy of naive bayes: {}'.format(classifierNB.score(x_test, y_test)))\n",
    "print('\\n')\n",
    "print('Accuracy of logistic regression: {}'.format(classifierLR.score(x_test, y_test)))\n",
    "print('\\n')\n",
    "print('Accuracy of decision tree: {}'.format(classifierDT.score(x_test, y_test)))\n",
    "print('\\n')\n",
    "print('Accuracy of random forest: {}'.format(classifierRF.score(x_test, y_test)))"
   ]
  },
  {
   "cell_type": "markdown",
   "metadata": {},
   "source": [
    "# ENSEMBLE LEARNING"
   ]
  },
  {
   "cell_type": "markdown",
   "metadata": {},
   "source": [
    "### Majority Voting:"
   ]
  },
  {
   "cell_type": "code",
   "execution_count": 36,
   "metadata": {
    "colab": {
     "base_uri": "https://localhost:8080/",
     "height": 530
    },
    "colab_type": "code",
    "id": "nhir0HGOStjD",
    "outputId": "7ab7ac7c-c6d3-4268-f854-421b8db2537d"
   },
   "outputs": [
    {
     "name": "stdout",
     "output_type": "stream",
     "text": [
      "majority_voting_accuracy:  0.6881325659853146\n",
      "\n",
      "\n"
     ]
    },
    {
     "data": {
      "image/png": "[encoded data removed]",
      "text/plain": [
       "<Figure size 432x288 with 2 Axes>"
      ]
     },
     "metadata": {
      "needs_background": "light",
      "tags": []
     },
     "output_type": "display_data"
    },
    {
     "name": "stdout",
     "output_type": "stream",
     "text": [
      "\n",
      "\n",
      "              precision    recall  f1-score   support\n",
      "\n",
      "           0       0.65      0.84      0.73     10362\n",
      "           1       0.75      0.53      0.62      9794\n",
      "\n",
      "    accuracy                           0.69     20156\n",
      "   macro avg       0.70      0.68      0.68     20156\n",
      "weighted avg       0.70      0.69      0.68     20156\n",
      "\n"
     ]
    }
   ],
   "source": [
    "# Ensemble Majority Voting Classifier\n",
    "from sklearn.ensemble import VotingClassifier\n",
    "#create a dictionary of our models\n",
    "estimators=[ ('nb', classifierNB), ('lr', classifierLR), ('dt', classifierDT),('rf', classifierRF)]\n",
    "#create our voting classifier, inputting our models\n",
    "majority_voting = VotingClassifier(estimators, voting='hard')\n",
    "#fit model to training data\n",
    "majority_voting.fit(x_train, y_train)\n",
    "#test our model on the test data\n",
    "majority_voting.score(x_test, y_test)\n",
    "# save best model to current working directory\n",
    "joblib.dump(majority_voting, \"heart_disease.pkl\")\n",
    "# load from file and predict using the best configs found in the CV step\n",
    "model_max_v = joblib.load(\"heart_disease.pkl\" )\n",
    "# get predictions from best model above\n",
    "y_preds = model_max_v.predict(x_test)\n",
    "print('majority_voting_accuracy: ',majority_voting.score(x_test, y_test))\n",
    "print('\\n')\n",
    "#import pylab as plt\n",
    "labels=[0,1]\n",
    "cmx=confusion_matrix(y_test,y_preds, labels)\n",
    "cmx_df = pd.DataFrame(cmx)\n",
    "plt.title('Confusion matrix of the classifier')\n",
    "heatmap = sns.heatmap(cmx_df, annot=True, annot_kws={\"size\": 10}, fmt=\"d\")\n",
    "plt.xlabel('Predicted')\n",
    "plt.ylabel('Actual')\n",
    "plt.show()\n",
    "#print(cmx)\n",
    "'''fig = plt.figure()\n",
    "ax = fig.add_subplot(111)\n",
    "cax = ax.matshow(cmx)\n",
    "plt.title('Confusion matrix of the classifier')\n",
    "fig.colorbar(cax)\n",
    "ax.set_xticklabels([''] + labels)\n",
    "ax.set_yticklabels([''] + labels)\n",
    "plt.xlabel('Predicted')\n",
    "plt.ylabel('Actual')\n",
    "plt.show()'''\n",
    "print('\\n')\n",
    "print(classification_report(y_test, y_preds))\n"
   ]
  },
  {
   "cell_type": "markdown",
   "metadata": {},
   "source": [
    "### Weighted Average Voting:"
   ]
  },
  {
   "cell_type": "code",
   "execution_count": 44,
   "metadata": {
    "colab": {
     "base_uri": "https://localhost:8080/",
     "height": 614
    },
    "colab_type": "code",
    "id": "iTrX6dB_StjF",
    "outputId": "22119655-c973-4c52-a7c3-2d7a5c56c1aa"
   },
   "outputs": [
    {
     "name": "stdout",
     "output_type": "stream",
     "text": [
      "ensemble score: 0.5570862142073967\n",
      "Best Weights: [8.66320977e-03 5.74627151e-18 7.81907500e-01 2.09429291e-01]\n",
      "The accuracy weighted average classifier is : 0.7212244492954951\n",
      "weighted_average_accuracy:  0.7212244492954951\n",
      "\n",
      "\n"
     ]
    },
    {
     "data": {
      "image/png": "[encoded data removed]",
      "text/plain": [
       "<Figure size 432x288 with 2 Axes>"
      ]
     },
     "metadata": {
      "needs_background": "light",
      "tags": []
     },
     "output_type": "display_data"
    },
    {
     "name": "stdout",
     "output_type": "stream",
     "text": [
      "[[8152 2210]\n",
      " [3409 6385]]\n",
      "\n",
      "\n",
      "              precision    recall  f1-score   support\n",
      "\n",
      "           0       0.71      0.79      0.74     10362\n",
      "           1       0.74      0.65      0.69      9794\n",
      "\n",
      "    accuracy                           0.72     20156\n",
      "   macro avg       0.72      0.72      0.72     20156\n",
      "weighted avg       0.72      0.72      0.72     20156\n",
      "\n"
     ]
    }
   ],
   "source": [
    "#Ensemble Weighted average classifier\n",
    "#finding the optimum weights\n",
    "from scipy.optimize import minimize\n",
    "predictions = []\n",
    "for clff in clfs:\n",
    " predictions.append(clff.predict_proba(x_test))\n",
    "def log_loss_func(weights):\n",
    " final_prediction = 0\n",
    " for weight, prediction in zip(weights, predictions):\n",
    "     final_prediction += weight*prediction\n",
    " return log_loss(y_test, final_prediction)\n",
    " \n",
    "#the algorithms need a starting value, right not we chose 0.5 for all weights\n",
    "#its better to choose many random starting points and run minimize a few times\n",
    "starting_values = [0.5]*len(predictions)\n",
    "#adding constraints and a different solver as suggested by user 16universe\n",
    "cons = ({'type':'eq','fun':lambda w: 1-sum(w)})\n",
    "#our weights are bound between 0 and 1\n",
    "bounds = [(0,1)]*len(predictions)\n",
    "res = minimize(log_loss_func, starting_values, method='SLSQP', bounds=bounds, constraints=cons)\n",
    "print('ensemble score: {best_score}'.format(best_score=res['fun']))\n",
    "print('Best Weights: {weights}'.format(weights=res['x']))\n",
    "weighted_avg = VotingClassifier(estimators, voting='soft',weights=res['x']).fit(x_train, y_train)\n",
    "print('The accuracy weighted average classifier is :', weighted_avg.score(x_test,y_test))\n",
    "# save best model to current working directory\n",
    "joblib.dump(weighted_avg, \"heart_disease.pkl\")\n",
    "# load from file and predict using the best configs found in the CV step\n",
    "model_w_avg = joblib.load(\"heart_disease.pkl\" )\n",
    "# get predictions from best model above\n",
    "y_preds = model_w_avg.predict(x_test)\n",
    "print('weighted_average_accuracy: ',weighted_avg.score(x_test, y_test))\n",
    "print('\\n')\n",
    "#import pylab as plt\n",
    "labels=[0,1]\n",
    "cmx=confusion_matrix(y_test,y_preds, labels)\n",
    "\n",
    "cmx_df = pd.DataFrame(cmx)\n",
    "plt.title('Confusion matrix of the classifier')\n",
    "heatmap = sns.heatmap(cmx_df, annot=True, annot_kws={\"size\": 10}, fmt=\"d\")\n",
    "plt.xlabel('Predicted')\n",
    "plt.ylabel('Actual')\n",
    "plt.show()\n",
    "\n",
    "print(cmx)\n",
    "'''\n",
    "fig = plt.figure()\n",
    "ax = fig.add_subplot(111)\n",
    "cax = ax.matshow(cmx)\n",
    "plt.title('Confusion matrix of the classifier')\n",
    "fig.colorbar(cax)\n",
    "ax.set_xticklabels([''] + labels)\n",
    "ax.set_yticklabels([''] + labels)\n",
    "plt.xlabel('Predicted')\n",
    "plt.ylabel('Actual')\n",
    "plt.show()\n",
    "'''\n",
    "print('\\n')\n",
    "print(classification_report(y_test, y_preds))\n"
   ]
  },
  {
   "cell_type": "markdown",
   "metadata": {},
   "source": [
    "#  Ensemble Classifiers"
   ]
  },
  {
   "cell_type": "markdown",
   "metadata": {},
   "source": [
    "### Bagging"
   ]
  },
  {
   "cell_type": "markdown",
   "metadata": {},
   "source": [
    "I have applied Bagging (Bootstrap aggregating) which creates several subsets of data from training sample chosen randomly with replacement and used each collection of subset data to train their decision trees. As a result, I got an ensemble of different models.And the average of all the predictions from different trees were used which is more robust than a single decision tree classifier.\n"
   ]
  },
  {
   "cell_type": "code",
   "execution_count": 46,
   "metadata": {
    "colab": {
     "base_uri": "https://localhost:8080/",
     "height": 34
    },
    "colab_type": "code",
    "id": "D4LUz4tnStjI",
    "outputId": "e66fe5ce-5656-4d28-a033-edb9a769f7a5"
   },
   "outputs": [
    {
     "data": {
      "text/plain": [
       "0.7100119071244294"
      ]
     },
     "execution_count": 46,
     "metadata": {
      "tags": []
     },
     "output_type": "execute_result"
    }
   ],
   "source": [
    "# Bagging\n",
    "classifierBa= BaggingClassifier(max_samples=0.5, max_features=1.0, n_estimators=50)\n",
    "classifierBa.fit(x_train,y_train)\n",
    "classifierBa.score(x_test, y_test)"
   ]
  },
  {
   "cell_type": "code",
   "execution_count": 47,
   "metadata": {
    "colab": {
     "base_uri": "https://localhost:8080/",
     "height": 34
    },
    "colab_type": "code",
    "id": "mdxzwh2uStjK",
    "outputId": "b5f89bcf-70c8-4228-ecdb-bf4e6d4416e7"
   },
   "outputs": [
    {
     "data": {
      "text/plain": [
       "['heart_disease.pkl']"
      ]
     },
     "execution_count": 47,
     "metadata": {
      "tags": []
     },
     "output_type": "execute_result"
    }
   ],
   "source": [
    "joblib.dump(classifierBa, \"heart_disease.pkl\")"
   ]
  },
  {
   "cell_type": "code",
   "execution_count": 48,
   "metadata": {
    "colab": {},
    "colab_type": "code",
    "id": "gNLSQmnBStjM"
   },
   "outputs": [],
   "source": [
    "model_bagging = joblib.load(\"heart_disease.pkl\")"
   ]
  },
  {
   "cell_type": "code",
   "execution_count": 49,
   "metadata": {
    "colab": {
     "base_uri": "https://localhost:8080/",
     "height": 530
    },
    "colab_type": "code",
    "id": "DMRqTyACStjO",
    "outputId": "0ab8921f-e689-4955-ddb9-da7aeee47829"
   },
   "outputs": [
    {
     "name": "stdout",
     "output_type": "stream",
     "text": [
      "bagging_accuracy score:  0.7100119071244294\n",
      "\n",
      "\n"
     ]
    },
    {
     "data": {
      "image/png": "[encoded data removed]",
      "text/plain": [
       "<Figure size 432x288 with 2 Axes>"
      ]
     },
     "metadata": {
      "needs_background": "light",
      "tags": []
     },
     "output_type": "display_data"
    },
    {
     "name": "stdout",
     "output_type": "stream",
     "text": [
      "\n",
      "\n",
      "              precision    recall  f1-score   support\n",
      "\n",
      "           0       0.70      0.75      0.73     10362\n",
      "           1       0.72      0.67      0.69      9794\n",
      "\n",
      "    accuracy                           0.71     20156\n",
      "   macro avg       0.71      0.71      0.71     20156\n",
      "weighted avg       0.71      0.71      0.71     20156\n",
      "\n"
     ]
    }
   ],
   "source": [
    "# get predictions from best model above\n",
    "y_preds = model_bagging.predict(x_test)\n",
    "print('bagging_accuracy score: ',accuracy_score(y_test, y_preds))\n",
    "print('\\n')\n",
    "#import pylab as plt\n",
    "labels=[0,1]\n",
    "cmx=confusion_matrix(y_test,y_preds, labels)\n",
    "cmx_df = pd.DataFrame(cmx)\n",
    "plt.title('Confusion matrix of the classifier')\n",
    "heatmap = sns.heatmap(cmx_df, annot=True, annot_kws={\"size\": 10}, fmt=\"d\")\n",
    "plt.xlabel('Predicted')\n",
    "plt.ylabel('Actual')\n",
    "plt.show()\n",
    "'''\n",
    "print(cmx)\n",
    "\n",
    "fig = plt.figure()\n",
    "ax = fig.add_subplot(111)\n",
    "cax = ax.matshow(cmx)\n",
    "plt.title('Confusion matrix of the classifier')\n",
    "fig.colorbar(cax)\n",
    "ax.set_xticklabels([''] + labels)\n",
    "ax.set_yticklabels([''] + labels)\n",
    "plt.xlabel('Predicted')\n",
    "plt.ylabel('Actual')\n",
    "plt.show()'''\n",
    "print('\\n')\n",
    "print(classification_report(y_test, y_preds))"
   ]
  },
  {
   "cell_type": "markdown",
   "metadata": {},
   "source": [
    "### Boosting"
   ]
  },
  {
   "cell_type": "markdown",
   "metadata": {
    "colab": {},
    "colab_type": "code",
    "id": "OeXw4bltStjQ"
   },
   "source": [
    "#### Adaptive Boosting (AdaBoost):"
   ]
  },
  {
   "cell_type": "code",
   "execution_count": 50,
   "metadata": {
    "colab": {
     "base_uri": "https://localhost:8080/",
     "height": 34
    },
    "colab_type": "code",
    "id": "0Bas9HRsStjS",
    "outputId": "2257b4ea-f015-4ea6-d011-f91e2e8b13ee"
   },
   "outputs": [
    {
     "data": {
      "text/plain": [
       "0.7229112919230006"
      ]
     },
     "execution_count": 50,
     "metadata": {
      "tags": []
     },
     "output_type": "execute_result"
    }
   ],
   "source": [
    "classifierAdaBoost= AdaBoostClassifier(n_estimators=500)\n",
    "classifierAdaBoost.fit(x_train,y_train)\n",
    "classifierAdaBoost.score(x_test, y_test)"
   ]
  },
  {
   "cell_type": "code",
   "execution_count": 51,
   "metadata": {
    "colab": {},
    "colab_type": "code",
    "id": "esnW-Jl4StjU"
   },
   "outputs": [],
   "source": [
    "# saving best model to current working directory\n",
    "joblib.dump(classifierAdaBoost, \"heart_disease.pkl\")\n",
    "model_Ada_boost = joblib.load(\"heart_disease.pkl\" )"
   ]
  },
  {
   "cell_type": "code",
   "execution_count": 2,
   "metadata": {},
   "outputs": [],
   "source": [
    " #get predictions from best model above"
   ]
  },
  {
   "cell_type": "code",
   "execution_count": 52,
   "metadata": {
    "colab": {
     "base_uri": "https://localhost:8080/",
     "height": 530
    },
    "colab_type": "code",
    "id": "D6JtYqqkStjW",
    "outputId": "e73f1892-802b-4bc3-8111-651d042b5857"
   },
   "outputs": [
    {
     "name": "stdout",
     "output_type": "stream",
     "text": [
      "Ada_boost_accuracy score:  0.7229112919230006\n",
      "\n",
      "\n"
     ]
    },
    {
     "data": {
      "image/png": "[encoded data removed]",
      "text/plain": [
       "<Figure size 432x288 with 2 Axes>"
      ]
     },
     "metadata": {
      "needs_background": "light",
      "tags": []
     },
     "output_type": "display_data"
    },
    {
     "name": "stdout",
     "output_type": "stream",
     "text": [
      "\n",
      "\n",
      "              precision    recall  f1-score   support\n",
      "\n",
      "           0       0.70      0.81      0.75     10362\n",
      "           1       0.76      0.64      0.69      9794\n",
      "\n",
      "    accuracy                           0.72     20156\n",
      "   macro avg       0.73      0.72      0.72     20156\n",
      "weighted avg       0.73      0.72      0.72     20156\n",
      "\n"
     ]
    }
   ],
   "source": [
    "y_preds = model_Ada_boost.predict(x_test)\n",
    "print('Ada_boost_accuracy score: ',accuracy_score(y_test, y_preds))\n",
    "print('\\n')\n",
    "#import pylab as plt\n",
    "labels=[0,1]\n",
    "cmx=confusion_matrix(y_test,y_preds, labels)\n",
    "cmx_df = pd.DataFrame(cmx)\n",
    "plt.title('Confusion matrix of the classifier')\n",
    "\n",
    "heatmap = sns.heatmap(cmx_df, annot=True, annot_kws={\"size\": 10}, fmt=\"d\")\n",
    "plt.xlabel('Predicted')\n",
    "plt.ylabel('Actual')\n",
    "plt.show()\n",
    "#print(cmx)\n",
    "'''fig = plt.figure()\n",
    "ax = fig.add_subplot(111)\n",
    "cax = ax.matshow(cmx)\n",
    "plt.title(\"Confusion matrix of the classifier\")\n",
    "fig.colorbar(cax)\n",
    "ax.set_xticklabels([''] + labels)\n",
    "ax.set_yticklabels([''] + labels)\n",
    "plt.xlabel('Predicted')\n",
    "plt.ylabel('Actual')\n",
    "plt.show()'''\n",
    "print('\\n')\n",
    "print(classification_report(y_test, y_preds))"
   ]
  },
  {
   "cell_type": "markdown",
   "metadata": {
    "colab": {},
    "colab_type": "code",
    "id": "0Na8NDI-StjY"
   },
   "source": [
    "#### Gradient Boosting:"
   ]
  },
  {
   "cell_type": "code",
   "execution_count": 53,
   "metadata": {
    "colab": {
     "base_uri": "https://localhost:8080/",
     "height": 34
    },
    "colab_type": "code",
    "id": "KbmyXRrIStjb",
    "outputId": "1988c07a-9e0b-46e8-bf72-b22bd908a7dd"
   },
   "outputs": [
    {
     "data": {
      "text/plain": [
       "0.725788846993451"
      ]
     },
     "execution_count": 53,
     "metadata": {
      "tags": []
     },
     "output_type": "execute_result"
    }
   ],
   "source": [
    "from sklearn.ensemble import GradientBoostingClassifier\n",
    "classifierGBo= GradientBoostingClassifier(n_estimators=500, learning_rate=1.0, max_depth=1)\n",
    "classifierGBo.fit(x_train,y_train)\n",
    "classifierGBo.score(x_test, y_test)"
   ]
  },
  {
   "cell_type": "code",
   "execution_count": 54,
   "metadata": {
    "colab": {},
    "colab_type": "code",
    "id": "LmyS1oY3Stje"
   },
   "outputs": [],
   "source": [
    "joblib.dump(classifierGBo, \"heart_disease.pkl\")\n",
    "model_Gradient_boosting = joblib.load(\"heart_disease.pkl\")"
   ]
  },
  {
   "cell_type": "code",
   "execution_count": 56,
   "metadata": {
    "colab": {
     "base_uri": "https://localhost:8080/",
     "height": 530
    },
    "colab_type": "code",
    "id": "UiLKOvJmStjg",
    "outputId": "d8240912-239e-4bba-c087-348678d5dd85"
   },
   "outputs": [
    {
     "name": "stdout",
     "output_type": "stream",
     "text": [
      "Gradient_boosting_accuracy score:  0.725788846993451\n",
      "\n",
      "\n"
     ]
    },
    {
     "data": {
      "image/png": "[encoded data removed]",
      "text/plain": [
       "<Figure size 432x288 with 2 Axes>"
      ]
     },
     "metadata": {
      "needs_background": "light",
      "tags": []
     },
     "output_type": "display_data"
    },
    {
     "name": "stdout",
     "output_type": "stream",
     "text": [
      "\n",
      "\n",
      "              precision    recall  f1-score   support\n",
      "\n",
      "           0       0.70      0.80      0.75     10362\n",
      "           1       0.76      0.64      0.70      9794\n",
      "\n",
      "    accuracy                           0.73     20156\n",
      "   macro avg       0.73      0.72      0.72     20156\n",
      "weighted avg       0.73      0.73      0.72     20156\n",
      "\n"
     ]
    }
   ],
   "source": [
    "y_preds = model_Gradient_boosting.predict(x_test)\n",
    "print('Gradient_boosting_accuracy score: ',accuracy_score(y_test, y_preds))\n",
    "print('\\n')\n",
    "#import pylab as plt\n",
    "labels=[0,1]\n",
    "cmx=confusion_matrix(y_test,y_preds, labels)\n",
    "cmx_df = pd.DataFrame(cmx)\n",
    "plt.title('Confusion matrix of the classifier')\n",
    "\n",
    "heatmap = sns.heatmap(cmx_df, annot=True, annot_kws={\"size\": 10}, fmt=\"d\")\n",
    "plt.xlabel('Predicted')\n",
    "plt.ylabel('Actual')\n",
    "plt.show()\n",
    "#print(cmx)\n",
    "'''fig = plt.figure()\n",
    "ax = fig.add_subplot(111)\n",
    "cax = ax.matshow(cmx)\n",
    "plt.title('Confusion matrix of the classifier')\n",
    "fig.colorbar(cax)\n",
    "ax.set_xticklabels([''] + labels)\n",
    "ax.set_yticklabels([''] + labels)\n",
    "#plt.xlabel('Predicted')\n",
    "#plt.ylabel('Actual')\n",
    "#plt.show()'''\n",
    "print('\\n')\n",
    "print(classification_report(y_test, y_preds))\n",
    "\n",
    "\n",
    "\n"
   ]
  },
  {
   "cell_type": "markdown",
   "metadata": {},
   "source": [
    "## Accuracy of Ensemble combination methods & Ensemble classifiers"
   ]
  },
  {
   "cell_type": "code",
   "execution_count": 57,
   "metadata": {
    "colab": {
     "base_uri": "https://localhost:8080/",
     "height": 134
    },
    "colab_type": "code",
    "id": "7v2v87yqStji",
    "outputId": "1ce107c2-4aa7-4db7-c739-27578d0562a7"
   },
   "outputs": [
    {
     "name": "stdout",
     "output_type": "stream",
     "text": [
      "\n",
      "\n",
      "Majority Voting accuracy score:  0.6881325659853146\n",
      "Weighted Average accuracy score:  0.7212244492954951\n",
      "Bagging_accuracy score:  0.7100119071244294\n",
      "Ada_boost_accuracy score:  0.7229112919230006\n",
      "Gradient_boosting_accuracy score:  0.725788846993451\n"
     ]
    }
   ],
   "source": [
    "print('\\n')\n",
    "print('Majority Voting accuracy score: ',majority_voting.score(x_test, y_test))\n",
    "print('Weighted Average accuracy score: ',weighted_avg.score(x_test, y_test))\n",
    "print('Bagging_accuracy score: ',classifierBa.score(x_test, y_test))\n",
    "print('Ada_boost_accuracy score: ',classifierAdaBoost.score(x_test, y_test))\n",
    "print('Gradient_boosting_accuracy score: ',classifierGBo.score(x_test, y_test))"
   ]
  }
 ],
 "metadata": {
  "colab": {
   "name": "cardiovascular-disease-prediction.ipynb",
   "provenance": []
  },
  "kernelspec": {
   "display_name": "Python 3",
   "language": "python",
   "name": "python3"
  },
  "language_info": {
   "codemirror_mode": {
    "name": "ipython",
    "version": 3
   },
   "file_extension": ".py",
   "mimetype": "text/x-python",
   "name": "python",
   "nbconvert_exporter": "python",
   "pygments_lexer": "ipython3",
   "version": "3.7.3"
  }
 },
 "nbformat": 4,
 "nbformat_minor": 1
}
